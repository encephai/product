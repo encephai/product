{
 "cells": [
  {
   "cell_type": "code",
   "execution_count": 1,
   "id": "f3d4f40f-f07d-4c0f-a8d2-0981c31f8fbf",
   "metadata": {},
   "outputs": [
    {
     "name": "stdout",
     "output_type": "stream",
     "text": [
      "WARNING:tensorflow:From C:\\Users\\Bhargav\\anaconda3\\Lib\\site-packages\\keras\\src\\losses.py:2976: The name tf.losses.sparse_softmax_cross_entropy is deprecated. Please use tf.compat.v1.losses.sparse_softmax_cross_entropy instead.\n",
      "\n",
      "WARNING:tensorflow:From C:\\Users\\Bhargav\\anaconda3\\Lib\\site-packages\\keras\\src\\backend.py:1398: The name tf.executing_eagerly_outside_functions is deprecated. Please use tf.compat.v1.executing_eagerly_outside_functions instead.\n",
      "\n",
      "WARNING:tensorflow:From C:\\Users\\Bhargav\\anaconda3\\Lib\\site-packages\\keras\\src\\layers\\normalization\\batch_normalization.py:979: The name tf.nn.fused_batch_norm is deprecated. Please use tf.compat.v1.nn.fused_batch_norm instead.\n",
      "\n",
      "1/1 [==============================] - 3s 3s/step\n",
      "Detected objects in 77.jpg:\n",
      "Class: no fire, Confidence: 0.9999999403953552\n"
     ]
    }
   ],
   "source": [
    "import os\n",
    "import cv2\n",
    "import numpy as np\n",
    "from tensorflow.keras.models import load_model\n",
    "\n",
    "# Load pre-trained object detection model\n",
    "model = load_model(r'C:\\Users\\Bhargav\\Documents\\Model\\fire_detection_model.h5')\n",
    "\n",
    "# Dictionary mapping class indices to class names\n",
    "class_names = {0: 'no fire', 1: 'fire'}  # Add class names as per your model's classes\n",
    "\n",
    "# Function to perform object detection on a single image\n",
    "def detect_objects(image_path, confidence_threshold=0.5):\n",
    "    # Load image\n",
    "    image = cv2.imread(image_path)\n",
    "    \n",
    "    # Resize image to match the expected input shape of the model\n",
    "    resized_image = cv2.resize(image, (224, 224))\n",
    "    \n",
    "    # Preprocess image (normalize, etc.)\n",
    "    # Placeholder for preprocessing\n",
    "    preprocessed_image = resized_image\n",
    "    \n",
    "    # Perform inference\n",
    "    predictions = model.predict(np.expand_dims(preprocessed_image, axis=0))\n",
    "    \n",
    "    # Filter predictions based on confidence threshold\n",
    "    detected_objects = []\n",
    "    for i, confidence in enumerate(predictions[0]):\n",
    "        if confidence > confidence_threshold:\n",
    "            detected_objects.append({\n",
    "                'class_index': i,\n",
    "                'class_name': class_names.get(i, 'Unknown'),\n",
    "                'confidence': confidence\n",
    "            })\n",
    "    \n",
    "    # Return detected objects\n",
    "    return detected_objects\n",
    "\n",
    "# Path to directory containing test images\n",
    "test_images_directory = r'C:\\Users\\Bhargav\\Documents\\New'\n",
    "\n",
    "# Iterate over test images and perform object detection\n",
    "for image_file in os.listdir(test_images_directory):\n",
    "    if image_file.endswith('.jpg') or image_file.endswith('.png'):\n",
    "        image_path = os.path.join(test_images_directory, image_file)\n",
    "        detected_objects = detect_objects(image_path)\n",
    "        \n",
    "        # Print detected objects\n",
    "        print(f\"Detected objects in {image_file}:\")\n",
    "        for obj in detected_objects:\n",
    "            print(f\"Class: {obj['class_name']}, Confidence: {obj['confidence']}\")\n"
   ]
  }
 ],
 "metadata": {
  "kernelspec": {
   "display_name": "Python 3 (ipykernel)",
   "language": "python",
   "name": "python3"
  },
  "language_info": {
   "codemirror_mode": {
    "name": "ipython",
    "version": 3
   },
   "file_extension": ".py",
   "mimetype": "text/x-python",
   "name": "python",
   "nbconvert_exporter": "python",
   "pygments_lexer": "ipython3",
   "version": "3.8.18"
  }
 },
 "nbformat": 4,
 "nbformat_minor": 5
}
