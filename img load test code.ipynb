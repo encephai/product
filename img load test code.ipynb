{
 "cells": [
  {
   "cell_type": "code",
   "execution_count": 1,
   "id": "35b2a233-334e-4c21-9e87-3d3d8b21adbc",
   "metadata": {},
   "outputs": [
    {
     "name": "stdout",
     "output_type": "stream",
     "text": [
      "WARNING:tensorflow:From C:\\Users\\Bhargav\\anaconda3\\Lib\\site-packages\\keras\\src\\losses.py:2976: The name tf.losses.sparse_softmax_cross_entropy is deprecated. Please use tf.compat.v1.losses.sparse_softmax_cross_entropy instead.\n",
      "\n",
      "WARNING:tensorflow:From C:\\Users\\Bhargav\\anaconda3\\Lib\\site-packages\\keras\\src\\backend.py:1398: The name tf.executing_eagerly_outside_functions is deprecated. Please use tf.compat.v1.executing_eagerly_outside_functions instead.\n",
      "\n",
      "WARNING:tensorflow:From C:\\Users\\Bhargav\\anaconda3\\Lib\\site-packages\\keras\\src\\layers\\normalization\\batch_normalization.py:979: The name tf.nn.fused_batch_norm is deprecated. Please use tf.compat.v1.nn.fused_batch_norm instead.\n",
      "\n",
      "1/1 [==============================] - 51s 51s/step\n"
     ]
    }
   ],
   "source": [
    "import cv2\n",
    "import numpy as np\n",
    "from tensorflow.keras.models import load_model\n",
    "\n",
    "# Load pre-trained object detection model\n",
    "model = load_model(r'C:\\Users\\Bhargav\\Documents\\Model\\fire_detection_model.h5')\n",
    "\n",
    "# Dictionary mapping class indices to class names\n",
    "class_names = {0: 'no fire'}  # Add class names as per your model's classes\n",
    "\n",
    "# Function to perform object detection and draw bounding boxes on an image\n",
    "def detect_and_draw(image_path, confidence_threshold=0.5):\n",
    "    # Load image\n",
    "    image = cv2.imread(image_path)\n",
    "    \n",
    "    # Check if image was loaded successfully\n",
    "    if image is None:\n",
    "        print(f\"Error: Unable to load image from {image_path}\")\n",
    "        return\n",
    "    \n",
    "    original_image = image.copy()  # Create a copy of the original image\n",
    "    \n",
    "    # Resize image to match the expected input shape of the model\n",
    "    resized_image = cv2.resize(image, (224, 224))\n",
    "    \n",
    "    # Preprocess image (normalize, etc.)\n",
    "    # Placeholder for preprocessing\n",
    "    preprocessed_image = resized_image\n",
    "    \n",
    "    # Perform inference\n",
    "    predictions = model.predict(np.expand_dims(preprocessed_image, axis=0))\n",
    "    \n",
    "    # Filter predictions based on confidence threshold\n",
    "    detected_objects = []\n",
    "    for i, confidence in enumerate(predictions[0]):\n",
    "        if confidence > confidence_threshold:\n",
    "            detected_objects.append({\n",
    "                'class_index': i,\n",
    "                'class_name': class_names.get(i, 'Unknown'),\n",
    "                'confidence': confidence\n",
    "            })\n",
    "    \n",
    "    # Draw bounding boxes on the original image\n",
    "    for obj in detected_objects:\n",
    "        class_name = obj['class_name']\n",
    "        confidence = obj['confidence']\n",
    "        cv2.putText(original_image, f\"{class_name}: {confidence:.2f}\", (10, 30), cv2.FONT_HERSHEY_SIMPLEX, 1, (0, 255, 0), 2)\n",
    "        \n",
    "    # Show the image with bounding boxes\n",
    "    cv2.imshow(\"Detected Objects\", original_image)\n",
    "    cv2.waitKey(0)\n",
    "    cv2.destroyAllWindows()\n",
    "\n",
    "# Path to the image file\n",
    "image_file_path =  r'C:\\Users\\Bhargav\\Documents\\New\\77.jpg'\n",
    "\n",
    "# Perform object detection and draw bounding boxes\n",
    "detect_and_draw(image_file_path)\n"
   ]
  }
 ],
 "metadata": {
  "kernelspec": {
   "display_name": "Python 3 (ipykernel)",
   "language": "python",
   "name": "python3"
  },
  "language_info": {
   "codemirror_mode": {
    "name": "ipython",
    "version": 3
   },
   "file_extension": ".py",
   "mimetype": "text/x-python",
   "name": "python",
   "nbconvert_exporter": "python",
   "pygments_lexer": "ipython3",
   "version": "3.11.5"
  }
 },
 "nbformat": 4,
 "nbformat_minor": 5
}
