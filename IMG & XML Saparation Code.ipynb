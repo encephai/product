{
 "cells": [
  {
   "cell_type": "code",
   "execution_count": 1,
   "id": "814763f7-d014-462c-b044-2e2fa96c1259",
   "metadata": {},
   "outputs": [],
   "source": [
    "import os\n",
    "import shutil\n",
    "\n",
    "def separate_images_and_xml(input_folder, images_folder, xml_folder):\n",
    "    # Create output folders if they don't exist\n",
    "    os.makedirs(images_folder, exist_ok=True)\n",
    "    os.makedirs(xml_folder, exist_ok=True)\n",
    "\n",
    "    # Loop through each file in the input folder\n",
    "    for filename in os.listdir(input_folder):\n",
    "        file_path = os.path.join(input_folder, filename)\n",
    "\n",
    "        # Check if it's an image file\n",
    "        if filename.lower().endswith(('.png', '.jpg', '.jpeg', '.gif', '.bmp')):\n",
    "            shutil.copy(file_path, os.path.join(images_folder, filename))\n",
    "        # Check if it's an XML file\n",
    "        elif filename.lower().endswith('.xml'):\n",
    "            shutil.copy(file_path, os.path.join(xml_folder, filename))\n",
    "\n",
    "# Specify your input folder containing both images and XML files\n",
    "input_folder = r'C:\\Users\\Bhargav\\Downloads\\Fire Detection.v1i.voc\\train'\n",
    "\n",
    "# Specify output folders for images and XML files\n",
    "images_output_folder = r'C:\\Users\\Bhargav\\Downloads\\fire1\\img'\n",
    "xml_output_folder = r'C:\\Users\\Bhargav\\Downloads\\fire1\\xml'\n",
    "\n",
    "# Call the function to separate images and XML files\n",
    "separate_images_and_xml(input_folder, images_output_folder, xml_output_folder)\n"
   ]
  }
 ],
 "metadata": {
  "kernelspec": {
   "display_name": "Python 3 (ipykernel)",
   "language": "python",
   "name": "python3"
  },
  "language_info": {
   "codemirror_mode": {
    "name": "ipython",
    "version": 3
   },
   "file_extension": ".py",
   "mimetype": "text/x-python",
   "name": "python",
   "nbconvert_exporter": "python",
   "pygments_lexer": "ipython3",
   "version": "3.8.18"
  }
 },
 "nbformat": 4,
 "nbformat_minor": 5
}
